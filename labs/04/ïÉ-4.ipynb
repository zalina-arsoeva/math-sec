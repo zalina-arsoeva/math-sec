{
 "cells": [
  {
   "cell_type": "code",
   "execution_count": 1,
   "id": "4e86ca2c",
   "metadata": {},
   "outputs": [],
   "source": [
    "def euklid_simply(a, b):\n",
    "    while a!=0 and b!=0:\n",
    "        if a>=b:\n",
    "            a %= b\n",
    "        else:\n",
    "            b %=a\n",
    "    return a or b"
   ]
  },
  {
   "cell_type": "code",
   "execution_count": 2,
   "id": "1b81019e",
   "metadata": {},
   "outputs": [],
   "source": [
    "def euklid_extended(a, b):\n",
    "    if a == 0:\n",
    "        return (b, 0, 1)\n",
    "    else:\n",
    "        div, x, y = euklid_extended(b%a, a)\n",
    "    return (div, y-(b//a)*x, x)"
   ]
  },
  {
   "cell_type": "code",
   "execution_count": 3,
   "id": "5059b07e",
   "metadata": {},
   "outputs": [],
   "source": [
    "def euklid_binary(a, b):\n",
    "    g = 1\n",
    "    while(a%2 == 0 and b%2 == 0):\n",
    "        a = a/2\n",
    "        b = b/2\n",
    "        g = 2*g\n",
    "    u,v = a,b\n",
    "    while u != 0:\n",
    "        if u%2 == 0:\n",
    "            u = u/2\n",
    "        if v%2 == 0:\n",
    "            v = v/2\n",
    "        if u>=v:\n",
    "            u = u-v\n",
    "        else:\n",
    "            v = v-u\n",
    "    d = g*v\n",
    "    return d"
   ]
  },
  {
   "cell_type": "code",
   "execution_count": 11,
   "id": "d3bab5e2",
   "metadata": {},
   "outputs": [],
   "source": [
    "def euklid_bin_extended(a, b):\n",
    "    g = 1\n",
    "    while(a%2 == 0 and b%2 == 0):\n",
    "        a = a/2\n",
    "        b = b/2\n",
    "        g = 2*g\n",
    "    u = a\n",
    "    v = b\n",
    "    A = 1\n",
    "    B = 0\n",
    "    C = 0\n",
    "    D = 1\n",
    "    while u!=0:\n",
    "        if u%2 == 0:\n",
    "            u = u/2\n",
    "            if A%2 == 0 and B%2 == 0:\n",
    "                A = A/2\n",
    "                B = B/2\n",
    "            else:\n",
    "                A = (A+b)/2\n",
    "                B = (B-a)/2\n",
    "        if v%2 == 0:\n",
    "            v = v/2\n",
    "            if C%2 == 0 and D%2 == 0:\n",
    "                C = C/2\n",
    "                D = D/2\n",
    "            else:\n",
    "                C = (C+b)/2\n",
    "                D = (D-a)/2\n",
    "        if u>=v:\n",
    "            u = u-v\n",
    "            A = A-C\n",
    "            B = B-D\n",
    "        else:\n",
    "            v = v-u\n",
    "            C = C-A\n",
    "            D = D-B\n",
    "    d = g*v\n",
    "    x = C\n",
    "    y = D\n",
    "    return (d, x, y)"
   ]
  },
  {
   "cell_type": "code",
   "execution_count": 6,
   "id": "fa3f244c",
   "metadata": {},
   "outputs": [],
   "source": [
    "a = 5**10\n",
    "b = 5**5"
   ]
  },
  {
   "cell_type": "code",
   "execution_count": 7,
   "id": "71771250",
   "metadata": {},
   "outputs": [
    {
     "data": {
      "text/plain": [
       "3125"
      ]
     },
     "execution_count": 7,
     "metadata": {},
     "output_type": "execute_result"
    }
   ],
   "source": [
    "euklid_simply(a, b)"
   ]
  },
  {
   "cell_type": "code",
   "execution_count": 8,
   "id": "87da14e9",
   "metadata": {},
   "outputs": [
    {
     "data": {
      "text/plain": [
       "(3125, 0, 1)"
      ]
     },
     "execution_count": 8,
     "metadata": {},
     "output_type": "execute_result"
    }
   ],
   "source": [
    "euklid_extended(a, b)"
   ]
  },
  {
   "cell_type": "code",
   "execution_count": 9,
   "id": "022a37d4",
   "metadata": {},
   "outputs": [
    {
     "data": {
      "text/plain": [
       "3125"
      ]
     },
     "execution_count": 9,
     "metadata": {},
     "output_type": "execute_result"
    }
   ],
   "source": [
    "euklid_binary(a, b)"
   ]
  },
  {
   "cell_type": "code",
   "execution_count": 12,
   "id": "65603556",
   "metadata": {},
   "outputs": [
    {
     "data": {
      "text/plain": [
       "(3125, 0, 1)"
      ]
     },
     "execution_count": 12,
     "metadata": {},
     "output_type": "execute_result"
    }
   ],
   "source": [
    "euklid_bin_extended(a, b)"
   ]
  },
  {
   "cell_type": "code",
   "execution_count": null,
   "id": "c113aeb8",
   "metadata": {},
   "outputs": [],
   "source": []
  }
 ],
 "metadata": {
  "kernelspec": {
   "display_name": "Python 3 (ipykernel)",
   "language": "python",
   "name": "python3"
  },
  "language_info": {
   "codemirror_mode": {
    "name": "ipython",
    "version": 3
   },
   "file_extension": ".py",
   "mimetype": "text/x-python",
   "name": "python",
   "nbconvert_exporter": "python",
   "pygments_lexer": "ipython3",
   "version": "3.9.9"
  }
 },
 "nbformat": 4,
 "nbformat_minor": 5
}
