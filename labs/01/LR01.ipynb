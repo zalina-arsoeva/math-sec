{
 "cells": [
  {
   "cell_type": "code",
   "execution_count": 1,
   "id": "13490694",
   "metadata": {},
   "outputs": [],
   "source": [
    "def sesar(text, step):\n",
    "    alph = 'ABCDEFGHIJKLMNOPQRSTUVWZYZABCDEFGHIJKLMNOPQRSTUVWZYZ'\n",
    "    res = ''\n",
    "    for i in text:\n",
    "        index = alph.find(i)\n",
    "        n_index = index + step\n",
    "        if i in alph:\n",
    "            res += alph[n_index]\n",
    "        else:\n",
    "            res += i\n",
    "    return res\n",
    "\n",
    "def dec_sesar(text, step):\n",
    "    alph = 'ABCDEFGHIJKLMNOPQRSTUVWZYZABCDEFGHIJKLMNOPQRSTUVWZYZ'\n",
    "    res = ''\n",
    "    for i in text:\n",
    "        index = alph.find(i)\n",
    "        n_index = index - step\n",
    "        if i in alph:\n",
    "            res += alph[n_index]\n",
    "        else:\n",
    "            res += i\n",
    "    return res"
   ]
  },
  {
   "cell_type": "code",
   "execution_count": 2,
   "id": "ae8c3088",
   "metadata": {},
   "outputs": [
    {
     "name": "stdout",
     "output_type": "stream",
     "text": [
      "HELLO WORLD : OLSSV DVYSK : HELLO WORLD\n"
     ]
    }
   ],
   "source": [
    "s = 'HELLO WORLD'\n",
    "print(f'{s} : {sesar(s, 7)} : {dec_sesar(sesar(s, 7), 7)}')"
   ]
  },
  {
   "cell_type": "code",
   "execution_count": 11,
   "id": "97092315",
   "metadata": {},
   "outputs": [],
   "source": [
    "def atbash(text):\n",
    "    alph = 'ABCDEFGHIJKLMNOPQRSTUVWXYZ '\n",
    "    alph_r = [x for x in alph]\n",
    "    alph_r.reverse()\n",
    "    res = ''\n",
    "    for i in text:\n",
    "        for j,l in enumerate(alph):\n",
    "            if i == l:\n",
    "                res += alph_r[j]\n",
    "    return res\n",
    "    \n",
    "def dec_atbash(text):\n",
    "    alph = 'ABCDEFGHIJKLMNOPQRSTUVWXYZ '\n",
    "    alph_r = [x for x in alph]\n",
    "    alph_r.reverse()\n",
    "    res = ''\n",
    "    for i in text:\n",
    "        for j,l in enumerate(alph_r):\n",
    "            if i == l:\n",
    "                res += alph[j]\n",
    "    return res"
   ]
  },
  {
   "cell_type": "code",
   "execution_count": 12,
   "id": "fc239457",
   "metadata": {},
   "outputs": [
    {
     "name": "stdout",
     "output_type": "stream",
     "text": [
      "HELLO WORLD : TWPPMAEMJPX : HELLO WORLD\n"
     ]
    }
   ],
   "source": [
    "s = 'HELLO WORLD'\n",
    "print(f'{s} : {atbash(s)} : {dec_atbash(atbash(s))}')"
   ]
  },
  {
   "cell_type": "code",
   "execution_count": null,
   "id": "ab8eb11f",
   "metadata": {},
   "outputs": [],
   "source": []
  }
 ],
 "metadata": {
  "kernelspec": {
   "display_name": "Python 3 (ipykernel)",
   "language": "python",
   "name": "python3"
  },
  "language_info": {
   "codemirror_mode": {
    "name": "ipython",
    "version": 3
   },
   "file_extension": ".py",
   "mimetype": "text/x-python",
   "name": "python",
   "nbconvert_exporter": "python",
   "pygments_lexer": "ipython3",
   "version": "3.9.9"
  }
 },
 "nbformat": 4,
 "nbformat_minor": 5
}
