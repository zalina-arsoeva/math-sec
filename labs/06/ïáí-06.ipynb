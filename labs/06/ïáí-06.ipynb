{
 "cells": [
  {
   "cell_type": "code",
   "execution_count": 1,
   "id": "8badb863",
   "metadata": {},
   "outputs": [],
   "source": [
    "from math import gcd\n",
    "\n",
    "def f(x, n):\n",
    "    return (x*x+5)%n\n",
    "\n",
    "def fu(n, a, b, d):\n",
    "    a = f(a, n)\n",
    "    b = f(f(b, n), n)\n",
    "    d = gcd(a-b, n)\n",
    "    if 1<d<n:\n",
    "        print(d)\n",
    "        exit()\n",
    "    if d == n:\n",
    "        print(\"not found\")\n",
    "    if d == 1:\n",
    "        fu(n, a, b, d)\n",
    "        \n",
    "def main():\n",
    "    n = 1359331\n",
    "    c = 1\n",
    "    a = f(c, n)\n",
    "    b = f(a, n)\n",
    "    d = gcd(a-b, n)\n",
    "    if 1< d < n:\n",
    "        print(d)\n",
    "        exit()\n",
    "    if d == n:\n",
    "        pass\n",
    "    if d == 1:\n",
    "        fu(n, a, b, d)"
   ]
  },
  {
   "cell_type": "code",
   "execution_count": 2,
   "id": "bec9d879",
   "metadata": {},
   "outputs": [
    {
     "name": "stdout",
     "output_type": "stream",
     "text": [
      "1181\n"
     ]
    }
   ],
   "source": [
    "main()"
   ]
  },
  {
   "cell_type": "code",
   "execution_count": null,
   "id": "61fd4894",
   "metadata": {},
   "outputs": [],
   "source": []
  }
 ],
 "metadata": {
  "kernelspec": {
   "display_name": "Python 3 (ipykernel)",
   "language": "python",
   "name": "python3"
  },
  "language_info": {
   "codemirror_mode": {
    "name": "ipython",
    "version": 3
   },
   "file_extension": ".py",
   "mimetype": "text/x-python",
   "name": "python",
   "nbconvert_exporter": "python",
   "pygments_lexer": "ipython3",
   "version": "3.9.9"
  }
 },
 "nbformat": 4,
 "nbformat_minor": 5
}
