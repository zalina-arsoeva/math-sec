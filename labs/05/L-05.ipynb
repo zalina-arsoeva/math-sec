{
 "cells": [
  {
   "cell_type": "code",
   "execution_count": 1,
   "id": "e465dda5",
   "metadata": {},
   "outputs": [],
   "source": [
    "import random"
   ]
  },
  {
   "cell_type": "code",
   "execution_count": 2,
   "id": "82947340",
   "metadata": {},
   "outputs": [],
   "source": [
    "def Ferma(n, test_count):\n",
    "    for i in range(test_count):\n",
    "        a = random.randint(2, n-1)\n",
    "        if ( a**(n-1)%n != 1 ):\n",
    "            print(\"Complex\")\n",
    "            return False\n",
    "    print(\"Simple\")\n",
    "    return True"
   ]
  },
  {
   "cell_type": "code",
   "execution_count": 4,
   "id": "37c5f0bb",
   "metadata": {},
   "outputs": [],
   "source": [
    "def modulo(base, exponent, mod):\n",
    "    x = 1\n",
    "    y = base\n",
    "    while ( exponent > 0 ):\n",
    "        if ( exponent%2 == 1 ):\n",
    "            x = (x*y)%mod\n",
    "        y = (y*y)%mod\n",
    "        exponent = exponent//2\n",
    "    return x%mod\n",
    "\n",
    "def calculateJacobian(a, n):\n",
    "    if (a == 0):\n",
    "        return 0\n",
    "    ans = 1\n",
    "    if ( a < 0 ):\n",
    "        a = -a\n",
    "        if ( n%4 == 3 ):\n",
    "            ans = -ans\n",
    "    if ( a == 1 ):\n",
    "        return ans\n",
    "    while (a):\n",
    "        if ( a < 0 ):\n",
    "            a = -a\n",
    "            if ( n%4 == 3 ):\n",
    "                ans = -ans\n",
    "        while ( a%2 == 0 ):\n",
    "            a = a//2\n",
    "            if ( n%8 == 3 or n%8 == 5 ):\n",
    "                ans = -ans\n",
    "        a, n = n, a\n",
    "        if ( a%4 == 3 and n%4 == 3 ):\n",
    "            ans = -ans\n",
    "        a = a%n\n",
    "        if ( a > n//2 ):\n",
    "            a = a - n\n",
    "    if (n == 1):\n",
    "        return ans\n",
    "    return 0\n",
    "\n",
    "def SoloveiStrassen(p, iterations):\n",
    "    if ( p < 2 ):\n",
    "        print(\"Complex\")\n",
    "        return False\n",
    "    if ( p != 2 and p%2 == 0 ):\n",
    "        print(\"Complex\")\n",
    "        return False\n",
    "    for i in range(iterations):\n",
    "        a = random.randrange(p - 1) + 1\n",
    "    jacobian = (p + calculateJacobian(a, p))%p\n",
    "    mod = modulo(a, (p - 1)/2, p)\n",
    "    if ( jacobian == 0 or mod != jacobian ):\n",
    "        print(\"Complex\")\n",
    "        return False\n",
    "    print(\"Simple\")\n",
    "    return True"
   ]
  },
  {
   "cell_type": "code",
   "execution_count": 5,
   "id": "557949ab",
   "metadata": {},
   "outputs": [],
   "source": [
    "def MillerRabbin(n):\n",
    "    if n != int(n):\n",
    "        print(\"Complex\")\n",
    "        return False\n",
    "    n = int(n)\n",
    "    if n == 0 or n == 1 or n == 4 or n == 6 or n == 8 or n == 9:\n",
    "        print(\"Complex\")\n",
    "        return False\n",
    "    if n == 2 or n == 3 or n == 5 or n == 7:\n",
    "        print(\"Simple\")\n",
    "        return True\n",
    "    s = 0\n",
    "    d = n - 1\n",
    "    while d%2 == 0:\n",
    "        d >>= 1\n",
    "        s += 1\n",
    "    assert(2**s*d == n-1)\n",
    "    \n",
    "    def trial_compose(a):\n",
    "        if pow(a, d, n) == 1:\n",
    "            print(\"Complex\")\n",
    "            return False\n",
    "        for i in range(s):\n",
    "            if pow(a, 2**i*d, n) == n-1:\n",
    "                print(\"Complex\")\n",
    "                return False\n",
    "        print(\"Simple\")\n",
    "        return True\n",
    "    \n",
    "    for i in range(8):\n",
    "        a = random.randrange(2, n)\n",
    "        if trial_compose(a):\n",
    "            print(\"Complex\")\n",
    "            return False\n",
    "    print(\"Simple\")\n",
    "    return True"
   ]
  },
  {
   "cell_type": "code",
   "execution_count": 6,
   "id": "9b9fa823",
   "metadata": {},
   "outputs": [],
   "source": [
    "n = 10177"
   ]
  },
  {
   "cell_type": "code",
   "execution_count": 7,
   "id": "a8191f61",
   "metadata": {},
   "outputs": [
    {
     "name": "stdout",
     "output_type": "stream",
     "text": [
      "Simple\n"
     ]
    },
    {
     "data": {
      "text/plain": [
       "True"
      ]
     },
     "execution_count": 7,
     "metadata": {},
     "output_type": "execute_result"
    }
   ],
   "source": [
    "Ferma(n, 300)"
   ]
  },
  {
   "cell_type": "code",
   "execution_count": 8,
   "id": "a421270f",
   "metadata": {},
   "outputs": [
    {
     "name": "stdout",
     "output_type": "stream",
     "text": [
      "Simple\n"
     ]
    },
    {
     "data": {
      "text/plain": [
       "True"
      ]
     },
     "execution_count": 8,
     "metadata": {},
     "output_type": "execute_result"
    }
   ],
   "source": [
    "SoloveiStrassen(n, 300)"
   ]
  },
  {
   "cell_type": "code",
   "execution_count": 9,
   "id": "79be708f",
   "metadata": {},
   "outputs": [
    {
     "name": "stdout",
     "output_type": "stream",
     "text": [
      "Complex\n",
      "Complex\n",
      "Complex\n",
      "Complex\n",
      "Complex\n",
      "Complex\n",
      "Complex\n",
      "Complex\n",
      "Simple\n"
     ]
    },
    {
     "data": {
      "text/plain": [
       "True"
      ]
     },
     "execution_count": 9,
     "metadata": {},
     "output_type": "execute_result"
    }
   ],
   "source": [
    "MillerRabbin(n)"
   ]
  },
  {
   "cell_type": "code",
   "execution_count": 10,
   "id": "6ca28575",
   "metadata": {},
   "outputs": [],
   "source": [
    "n = 10178"
   ]
  },
  {
   "cell_type": "code",
   "execution_count": 11,
   "id": "bce086cc",
   "metadata": {},
   "outputs": [
    {
     "name": "stdout",
     "output_type": "stream",
     "text": [
      "Complex\n"
     ]
    },
    {
     "data": {
      "text/plain": [
       "False"
      ]
     },
     "execution_count": 11,
     "metadata": {},
     "output_type": "execute_result"
    }
   ],
   "source": [
    "Ferma(n, 300)"
   ]
  },
  {
   "cell_type": "code",
   "execution_count": 12,
   "id": "2855deb0",
   "metadata": {},
   "outputs": [
    {
     "name": "stdout",
     "output_type": "stream",
     "text": [
      "Complex\n"
     ]
    },
    {
     "data": {
      "text/plain": [
       "False"
      ]
     },
     "execution_count": 12,
     "metadata": {},
     "output_type": "execute_result"
    }
   ],
   "source": [
    "SoloveiStrassen(n, 300)"
   ]
  },
  {
   "cell_type": "code",
   "execution_count": 13,
   "id": "f1289ce2",
   "metadata": {},
   "outputs": [
    {
     "name": "stdout",
     "output_type": "stream",
     "text": [
      "Simple\n",
      "Complex\n"
     ]
    },
    {
     "data": {
      "text/plain": [
       "False"
      ]
     },
     "execution_count": 13,
     "metadata": {},
     "output_type": "execute_result"
    }
   ],
   "source": [
    "MillerRabbin(n)"
   ]
  },
  {
   "cell_type": "code",
   "execution_count": null,
   "id": "ee2da30b",
   "metadata": {},
   "outputs": [],
   "source": []
  }
 ],
 "metadata": {
  "kernelspec": {
   "display_name": "Python 3 (ipykernel)",
   "language": "python",
   "name": "python3"
  },
  "language_info": {
   "codemirror_mode": {
    "name": "ipython",
    "version": 3
   },
   "file_extension": ".py",
   "mimetype": "text/x-python",
   "name": "python",
   "nbconvert_exporter": "python",
   "pygments_lexer": "ipython3",
   "version": "3.9.9"
  }
 },
 "nbformat": 4,
 "nbformat_minor": 5
}
