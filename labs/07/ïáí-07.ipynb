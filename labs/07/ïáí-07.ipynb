{
 "cells": [
  {
   "cell_type": "code",
   "execution_count": 3,
   "id": "36619c77",
   "metadata": {},
   "outputs": [
    {
     "name": "stdout",
     "output_type": "stream",
     "text": [
      "(10, 64, 107)  :  20\n",
      "Validates:  True\n"
     ]
    }
   ],
   "source": [
    "def ext_euclid(a, b):\n",
    "    if b==0:\n",
    "        return a, 1, 0\n",
    "    else:\n",
    "        d, xx, yy = ext_euclid(b, a%b)\n",
    "        x = yy\n",
    "        y = xx - (a//b)*yy\n",
    "        return d, x, y\n",
    "    \n",
    "def inverse(a, n):\n",
    "    return ext_euclid(a, n)[1]\n",
    "\n",
    "def xab(x, a, b, xxx):\n",
    "    (G, H, P, Q) = xxx\n",
    "    sub = x%3\n",
    "    \n",
    "    if sub == 0:\n",
    "        x = x*xxx[0] % xxx[2]\n",
    "        a = (a+1)%Q\n",
    "    \n",
    "    if sub == 1:\n",
    "        x = x*xxx[1] % xxx[2]\n",
    "        b = (b+1) % xxx[2]\n",
    "        \n",
    "    if sub == 2:\n",
    "        x = x*x % xxx[2]\n",
    "        a = a*2 % xxx[3]\n",
    "        b = b*2 % xxx[3]\n",
    "    \n",
    "    return x, a, b\n",
    "\n",
    "def pollrad(G, H, P):\n",
    "    Q = int((P-1)//2)\n",
    "    \n",
    "    x = G*H\n",
    "    a = 1\n",
    "    b = 1\n",
    "    \n",
    "    X = x\n",
    "    A = a\n",
    "    B = b\n",
    "    \n",
    "    for i in range(1, P):\n",
    "        x, a, b = xab(x, a, b, (G, H, P, Q))\n",
    "        X, A, B = xab(X, A, B, (G, H, P, Q))\n",
    "        X, A, B = xab(X, A, B, (G, H, P, Q))\n",
    "        \n",
    "        if x == X:\n",
    "            break\n",
    "        \n",
    "    nom = a-A\n",
    "    denom = B-b\n",
    "    res = (inverse(denom, Q)*nom)%Q\n",
    "        \n",
    "    if verify(G, H, P, res):\n",
    "        return res\n",
    "        \n",
    "    return res + Q\n",
    "    \n",
    "def verify(g, h, p, x):\n",
    "    return pow(g, x, p) == h\n",
    "\n",
    "args = [(10, 64, 107)]\n",
    "\n",
    "for arg in args:\n",
    "    res = pollrad(*arg)\n",
    "    print(arg, \" : \", res)\n",
    "    print(\"Validates: \", verify(arg[0], arg[1], arg[2], res))"
   ]
  },
  {
   "cell_type": "code",
   "execution_count": null,
   "id": "fd7e5ee3",
   "metadata": {},
   "outputs": [],
   "source": []
  }
 ],
 "metadata": {
  "kernelspec": {
   "display_name": "Python 3 (ipykernel)",
   "language": "python",
   "name": "python3"
  },
  "language_info": {
   "codemirror_mode": {
    "name": "ipython",
    "version": 3
   },
   "file_extension": ".py",
   "mimetype": "text/x-python",
   "name": "python",
   "nbconvert_exporter": "python",
   "pygments_lexer": "ipython3",
   "version": "3.9.9"
  }
 },
 "nbformat": 4,
 "nbformat_minor": 5
}
