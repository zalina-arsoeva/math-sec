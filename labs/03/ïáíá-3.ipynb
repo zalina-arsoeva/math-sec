{
 "cells": [
  {
   "cell_type": "code",
   "execution_count": 1,
   "id": "421c32e1",
   "metadata": {},
   "outputs": [],
   "source": [
    "def gamma_code(text, gamma):\n",
    "    dict = {\"а\" :1, \"б\" :2 , \"в\" :3 ,\"г\" :4 ,\"д\" :5 ,\"е\" :6 ,\"ё\" :7 ,\"ж\": 8, \"з\": 9, \"и\": 10, \n",
    "            \"й\": 11, \"к\": 12, \"л\": 13, \"м\": 14, \"н\": 15, \"о\": 16, \"п\": 17, \"р\": 18, \"с\": 19, \n",
    "            \"т\": 20, \"у\": 21, \"ф\": 22, \"х\": 23, \"ц\": 24, \"ч\": 25, \"ш\": 26, \"щ\": 27, \"ъ\": 28,\n",
    "            \"ы\": 29, \"ь\": 30, \"э\": 31, \"ю\": 32, \"я\": 33\n",
    "            }\n",
    "    dict2 = {v : k for k, v in dict.items()}\n",
    "    digits_text = []\n",
    "    digits_gamma = []\n",
    "    \n",
    "    for i in text:\n",
    "        digits_text.append(dict[i])\n",
    "    print(\"Числа текста: \", digits_text)\n",
    "    \n",
    "    for i in gamma:\n",
    "        digits_gamma.append(dict[i])\n",
    "    print(\"Числа гаммы:\", digits_gamma)\n",
    "    \n",
    "    digits_res = []\n",
    "    ch = 0\n",
    "    for i in text:\n",
    "        try:\n",
    "            a = dict[i] + digits_gamma[ch]\n",
    "        except:\n",
    "            ch = 0\n",
    "            a = dict[i] + digits_gamma[ch]\n",
    "        if a >= 33:\n",
    "            a = a%33\n",
    "        ch += 1\n",
    "        digits_res.append(a)\n",
    "    print(\"Числа шифра: \", digits_res)\n",
    "    \n",
    "    text_enc = \"\"\n",
    "    for i in digits_res:\n",
    "        text_enc += dict2[i]\n",
    "    print(\"Зашифрованный текст: \", text_enc)\n",
    "    \n",
    "    digits = []\n",
    "    for i in text_enc:\n",
    "        digits.append(dict[i])\n",
    "    ch = 0\n",
    "    digits1 = []\n",
    "    for i in digits:\n",
    "        a = i - digits_gamma[ch]\n",
    "        if a < 1:\n",
    "            a = 33 + a\n",
    "        digits1.append(a)\n",
    "        ch += 1\n",
    "        \n",
    "    text_dec = \"\"\n",
    "    for i in digits1:\n",
    "        text_dec += dict2[i]\n",
    "    print(\"Расшифрованный текст: \", text_dec)"
   ]
  },
  {
   "cell_type": "code",
   "execution_count": 8,
   "id": "848dcfec",
   "metadata": {},
   "outputs": [],
   "source": [
    "text = \"руднфизматинформатика\"\n",
    "gamma = \"факультетфакультетттт\""
   ]
  },
  {
   "cell_type": "code",
   "execution_count": 9,
   "id": "39000d7d",
   "metadata": {},
   "outputs": [
    {
     "data": {
      "text/plain": [
       "21"
      ]
     },
     "execution_count": 9,
     "metadata": {},
     "output_type": "execute_result"
    }
   ],
   "source": [
    "len(text)"
   ]
  },
  {
   "cell_type": "code",
   "execution_count": 10,
   "id": "53d9d7fb",
   "metadata": {},
   "outputs": [
    {
     "data": {
      "text/plain": [
       "21"
      ]
     },
     "execution_count": 10,
     "metadata": {},
     "output_type": "execute_result"
    }
   ],
   "source": [
    "len(gamma)"
   ]
  },
  {
   "cell_type": "code",
   "execution_count": 11,
   "id": "a9b8d4e5",
   "metadata": {},
   "outputs": [
    {
     "name": "stdout",
     "output_type": "stream",
     "text": [
      "Числа текста:  [18, 21, 5, 15, 22, 10, 9, 14, 1, 20, 10, 15, 22, 16, 18, 14, 1, 20, 10, 12, 1]\n",
      "Числа гаммы: [22, 1, 12, 21, 13, 30, 20, 6, 20, 22, 1, 12, 21, 13, 30, 20, 6, 20, 20, 20, 20]\n",
      "Числа шифра:  [7, 22, 17, 3, 2, 7, 29, 20, 21, 9, 11, 27, 10, 29, 15, 1, 7, 7, 30, 32, 21]\n",
      "Зашифрованный текст:  ёфпвбёытузйщиынаёёьюу\n",
      "Расшифрованный текст:  руднфизматинформатика\n"
     ]
    }
   ],
   "source": [
    "gamma_code(text, gamma)"
   ]
  },
  {
   "cell_type": "code",
   "execution_count": null,
   "id": "ba4a85cc",
   "metadata": {},
   "outputs": [],
   "source": []
  }
 ],
 "metadata": {
  "kernelspec": {
   "display_name": "Python 3 (ipykernel)",
   "language": "python",
   "name": "python3"
  },
  "language_info": {
   "codemirror_mode": {
    "name": "ipython",
    "version": 3
   },
   "file_extension": ".py",
   "mimetype": "text/x-python",
   "name": "python",
   "nbconvert_exporter": "python",
   "pygments_lexer": "ipython3",
   "version": "3.9.9"
  }
 },
 "nbformat": 4,
 "nbformat_minor": 5
}
